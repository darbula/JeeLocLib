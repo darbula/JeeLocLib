{
 "cells": [
  {
   "cell_type": "code",
   "execution_count": 3,
   "metadata": {
    "collapsed": false
   },
   "outputs": [],
   "source": [
    "from utils import *\n",
    "from rf12demo.rf12demo import Rf12Demo\n",
    "import logging, time\n",
    "import logging\n",
    "plogger = logging.getLogger('pymote')\n",
    "plogger.setLevel(logging.ERROR+1)\n",
    "%autoreload 2"
   ]
  },
  {
   "cell_type": "code",
   "execution_count": 4,
   "metadata": {
    "collapsed": false
   },
   "outputs": [],
   "source": [
    "NODES = [2, 6, 7, 8]\n",
    "ROOT = 2\n",
    "JEELINK = 'COM3'"
   ]
  },
  {
   "cell_type": "code",
   "execution_count": 5,
   "metadata": {
    "collapsed": false
   },
   "outputs": [
    {
     "name": "stdout",
     "output_type": "stream",
     "text": [
      "09:36:41.720:        id: 31\n",
      "09:36:41.720:     group: 100\n",
      "09:36:41.720: frequency: 868 MHz\n",
      "09:36:41.720:   collect: True\n",
      "09:36:41.733:    offset: 1600\n",
      "09:36:41.733:     quiet: True\n",
      "09:36:41.733:    format: hex\n"
     ]
    }
   ],
   "source": [
    "if \"jeelink\" in locals() and not jeelink.closed:\n",
    "    jeelink.close()\n",
    "jeelink = Rf12Demo(payload_header, payload_body, port=JEELINK, baudrate=57600, timeout=1)\n",
    "fileHandler = logging.handlers.RotatingFileHandler('rf12demo.log')\n",
    "fileHandler.setFormatter(jeelink.loghandler.formatter)\n",
    "jeelink.logger.addHandler(fileHandler)\n",
    "#jeelink.logger.setLevel(logging.DEBUG)"
   ]
  },
  {
   "cell_type": "code",
   "execution_count": 9,
   "metadata": {
    "collapsed": false
   },
   "outputs": [
    {
     "name": "stdout",
     "output_type": "stream",
     "text": [
      "10:01:32.174: NeighborDetect [2 -> all]\n",
      "10:01:32.684: NeighborConfirm [6 -> 2]\n",
      "10:01:32.775: NeighborConfirm [7 -> 2]\n",
      "10:01:32.891: NeighborConfirm [8 -> 2]\n",
      "10:01:35.273: Token [2 -> 6]\n",
      "10:01:35.292: NeighborDetect [6 -> all]\n",
      "10:01:35.480: NeighborConfirm [2 -> 6]\n",
      "10:01:35.982: NeighborConfirm [7 -> 6]\n",
      "10:01:36.091: NeighborConfirm [8 -> 6]\n",
      "10:01:38.482: Token [6 -> 7]\n",
      "10:01:38.482: NeighborDetect [7 -> all]\n",
      "10:01:38.690: NeighborConfirm [2 -> 7]\n",
      "10:01:39.096: NeighborConfirm [6 -> 7]\n",
      "10:01:39.278: NeighborConfirm [8 -> 7]\n",
      "10:01:41.687: Token [7 -> 2]\n",
      "10:01:41.687: Backedge [2 -> 7]\n",
      "10:01:41.694: Token [7 -> 8]\n",
      "10:01:41.694: NeighborDetect [8 -> all]\n",
      "10:01:41.891: NeighborConfirm [2 -> 8]\n",
      "10:01:42.295: NeighborConfirm [6 -> 8]\n",
      "10:01:42.381: NeighborConfirm [7 -> 8]\n",
      "10:01:44.891: Token [8 -> 2]\n",
      "10:01:44.920: Backedge [2 -> 8]\n",
      "10:01:44.920: Token [8 -> 6]\n",
      "10:01:44.920: Backedge [6 -> 8]\n",
      "10:01:44.920: Return [8 -> 7]\n",
      "10:01:44.924: Return [7 -> 6]\n",
      "10:01:44.924: Return [6 -> 2]\n"
     ]
    }
   ],
   "source": [
    "jeelink.send(ROOT, \"Spontaneously\")\n",
    "jeelink.log_received_information(6, log_package_function)"
   ]
  },
  {
   "cell_type": "code",
   "execution_count": 7,
   "metadata": {
    "collapsed": false
   },
   "outputs": [],
   "source": [
    "jeelink.log_received_information(1, log_package_function)"
   ]
  },
  {
   "cell_type": "code",
   "execution_count": 13,
   "metadata": {
    "collapsed": false
   },
   "outputs": [],
   "source": [
    "jeelink.log_received_information(1, log_package_function)"
   ]
  },
  {
   "cell_type": "code",
   "execution_count": 14,
   "metadata": {
    "collapsed": true
   },
   "outputs": [],
   "source": [
    "jeelink.flush()"
   ]
  },
  {
   "cell_type": "code",
   "execution_count": null,
   "metadata": {
    "collapsed": true
   },
   "outputs": [],
   "source": []
  }
 ],
 "metadata": {
  "kernelspec": {
   "display_name": "Python 2",
   "language": "python",
   "name": "python2"
  },
  "language_info": {
   "codemirror_mode": {
    "name": "ipython",
    "version": 2
   },
   "file_extension": ".py",
   "mimetype": "text/x-python",
   "name": "python",
   "nbconvert_exporter": "python",
   "pygments_lexer": "ipython2",
   "version": "2.7.9"
  }
 },
 "nbformat": 4,
 "nbformat_minor": 0
}
