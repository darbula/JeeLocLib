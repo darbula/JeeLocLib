{
 "cells": [
  {
   "cell_type": "code",
   "execution_count": null,
   "metadata": {
    "collapsed": false
   },
   "outputs": [],
   "source": [
    "from utils import *\n",
    "from rf12demo.rf12demo import Rf12Demo\n",
    "import logging, time\n",
    "import logging\n",
    "plogger = logging.getLogger('pymote')\n",
    "plogger.setLevel(logging.ERROR+1)\n",
    "%load_ext autoreload\n",
    "%autoreload 2\n",
    "%pylab inline"
   ]
  },
  {
   "cell_type": "code",
   "execution_count": null,
   "metadata": {
    "collapsed": false
   },
   "outputs": [],
   "source": [
    "if \"jeelink\" in locals() and not jeelink.closed:\n",
    "    jeelink.close()\n",
    "jeelink = Rf12Demo(payload_header, payload_body, port='COM3', baudrate=57600, timeout=1)\n",
    "fileHandler = logging.handlers.RotatingFileHandler('rf12demo.log')\n",
    "fileHandler.setFormatter(jeelink.loghandler.formatter)\n",
    "jeelink.logger.addHandler(fileHandler)"
   ]
  },
  {
   "cell_type": "code",
   "execution_count": null,
   "metadata": {
    "collapsed": true
   },
   "outputs": [],
   "source": [
    "jeelink.set_group(212)"
   ]
  },
  {
   "cell_type": "code",
   "execution_count": null,
   "metadata": {
    "collapsed": false
   },
   "outputs": [],
   "source": [
    "jeelink.send(0, \"SetStatus\", {\"status\": 0})\n",
    "jeelink.log_received_information(1, log_package_function)\n"
   ]
  },
  {
   "cell_type": "code",
   "execution_count": null,
   "metadata": {
    "collapsed": false
   },
   "outputs": [],
   "source": [
    "from pymote import NetworkGenerator\n",
    "\n",
    "NODES = [1, 2, 3, 4, 6, 7, 9, 10]\n",
    "#NODES = [6, 7, 9, 10]\n",
    "#NODES = [1, 2, 3, 4]\n",
    "\n",
    "\n",
    "net_gen = NetworkGenerator(len(NODES))\n",
    "net = net_gen.generate_homogeneous_network()\n",
    "for i, node in enumerate(net.nodes()):\n",
    "    node.id = NODES[i]\n",
    "    net.labels[node] = str(node.id)\n",
    "net.show()\n"
   ]
  },
  {
   "cell_type": "code",
   "execution_count": null,
   "metadata": {
    "collapsed": false
   },
   "outputs": [],
   "source": [
    "for node in net.nodes():\n",
    "    package = dict((\"sn%d\" % i, 0) for i in range(16))\n",
    "    package.update(dict(map(lambda (i, n): (\"sn%d\" % i, n.id), enumerate(net.adj[node]))))\n",
    "    print node.id, package\n",
    "    jeelink.send(node.id, \"SetNeighbors\", package)"
   ]
  },
  {
   "cell_type": "code",
   "execution_count": null,
   "metadata": {
    "collapsed": false
   },
   "outputs": [],
   "source": [
    "jeelink.send(0, \"Reset\")\n",
    "#jeelink.send(NODES, \"Reset\")"
   ]
  },
  {
   "cell_type": "code",
   "execution_count": null,
   "metadata": {
    "collapsed": true
   },
   "outputs": [],
   "source": [
    "jeelink.send(9, \"Value\", {\"val\": 0})"
   ]
  },
  {
   "cell_type": "code",
   "execution_count": null,
   "metadata": {
    "collapsed": false
   },
   "outputs": [],
   "source": [
    "from random import random\n",
    "for node in NODES:\n",
    "    val = int(random()*len(NODES))\n",
    "    jeelink.send(node, \"Value\", {\"val\": val})\n",
    "    print node, val\n",
    "log = jeelink.log_received_information(1, log_package_function)"
   ]
  },
  {
   "cell_type": "code",
   "execution_count": null,
   "metadata": {
    "collapsed": true
   },
   "outputs": [],
   "source": [
    "log = jeelink.log_received_information(1, log_package_function)"
   ]
  },
  {
   "cell_type": "code",
   "execution_count": null,
   "metadata": {
    "collapsed": false,
    "scrolled": true
   },
   "outputs": [],
   "source": [
    "jeelink.send(0, \"Sync\")\n",
    "log = jeelink.log_received_information(1, log_package_function)"
   ]
  },
  {
   "cell_type": "code",
   "execution_count": null,
   "metadata": {
    "collapsed": false
   },
   "outputs": [],
   "source": [
    "log = jeelink.log_received_information(1, log_package_function)"
   ]
  },
  {
   "cell_type": "code",
   "execution_count": null,
   "metadata": {
    "collapsed": false
   },
   "outputs": [],
   "source": [
    "from time import sleep\n",
    "for i in range(10):\n",
    "    sleep(0.36)\n",
    "    jeelink.send(0, \"Sync\")\n",
    "log = jeelink.log_received_information(1, log_package_function)"
   ]
  },
  {
   "cell_type": "code",
   "execution_count": null,
   "metadata": {
    "collapsed": true
   },
   "outputs": [],
   "source": [
    "jeelink.send(10, \"SetNeighbors\", {'sn10': 0, 'sn11': 0, 'sn12': 0, 'sn13': 0, 'sn14': 0, 'sn15': 0, 'sn6': 0, 'sn7': 0, 'sn4': 0, 'sn5': 0, 'sn2': 0, 'sn3': 0, 'sn0': 2, 'sn1': 1, 'sn8': 0, 'sn9': 0})"
   ]
  },
  {
   "cell_type": "markdown",
   "metadata": {},
   "source": [
    "### Generating hypercube topology (not in use)"
   ]
  },
  {
   "cell_type": "code",
   "execution_count": null,
   "metadata": {
    "collapsed": false,
    "scrolled": true
   },
   "outputs": [],
   "source": [
    "maxnode = 9\n",
    "for i in range(maxnode+1):\n",
    "    #print i, \"=>\",\n",
    "    for k in range(4):\n",
    "        neighbor = i^(1<<k)\n",
    "        if neighbor and neighbor<=maxnode and i:\n",
    "            print i, neighbor, \",\",\n",
    "            #print \"==\", i^neighbor"
   ]
  },
  {
   "cell_type": "code",
   "execution_count": null,
   "metadata": {
    "collapsed": false
   },
   "outputs": [],
   "source": [
    "from IPython.display import Image\n",
    "Image(\"hypercube.png\")"
   ]
  }
 ],
 "metadata": {
  "kernelspec": {
   "display_name": "Python 2",
   "language": "python",
   "name": "python2"
  },
  "language_info": {
   "codemirror_mode": {
    "name": "ipython",
    "version": 2
   },
   "file_extension": ".py",
   "mimetype": "text/x-python",
   "name": "python",
   "nbconvert_exporter": "python",
   "pygments_lexer": "ipython2",
   "version": "2.7.10"
  }
 },
 "nbformat": 4,
 "nbformat_minor": 1
}
