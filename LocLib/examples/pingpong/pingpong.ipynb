{
 "cells": [
  {
   "cell_type": "code",
   "execution_count": 1,
   "metadata": {
    "collapsed": false
   },
   "outputs": [],
   "source": [
    "from utils import *\n",
    "from rf12demo.rf12demo import Rf12Demo\n",
    "import logging, time\n",
    "import logging\n",
    "plogger = logging.getLogger('pymote')\n",
    "plogger.setLevel(logging.ERROR+1)\n",
    "%load_ext autoreload\n",
    "%autoreload 2"
   ]
  },
  {
   "cell_type": "code",
   "execution_count": 2,
   "metadata": {
    "collapsed": false
   },
   "outputs": [
    {
     "name": "stdout",
     "output_type": "stream",
     "text": [
      "10:06:28.632:        id: 31\n",
      "10:06:28.634:     group: 212\n",
      "10:06:28.634: frequency: 868 MHz\n",
      "10:06:28.634:   collect: True\n",
      "10:06:28.635:    offset: 1600\n",
      "10:06:28.635:     quiet: True\n",
      "10:06:28.637:    format: hex\n"
     ]
    }
   ],
   "source": [
    "if \"jeelink\" in locals() and not jeelink.closed:\n",
    "    jeelink.close()\n",
    "jeelink = Rf12Demo(payload_header, payload_body, port='COM3', baudrate=57600, timeout=1)\n",
    "fileHandler = logging.handlers.RotatingFileHandler('rf12demo.log')\n",
    "fileHandler.setFormatter(jeelink.loghandler.formatter)\n",
    "jeelink.logger.addHandler(fileHandler)"
   ]
  },
  {
   "cell_type": "code",
   "execution_count": 4,
   "metadata": {
    "collapsed": true
   },
   "outputs": [],
   "source": [
    "jeelink.set_group(212)"
   ]
  },
  {
   "cell_type": "code",
   "execution_count": 3,
   "metadata": {
    "collapsed": false
   },
   "outputs": [
    {
     "name": "stdout",
     "output_type": "stream",
     "text": [
      "10:07:47.072: Token [1 -> 2]\n",
      "10:07:47.078: Token [2 -> 1]\n",
      "10:07:47.079: Token [1 -> 2]\n",
      "10:07:47.082: Token [2 -> 1]\n",
      "10:07:47.084: Token [1 -> 2]\n",
      "10:07:47.085: Token [2 -> 1]\n",
      "10:07:47.086: Token [1 -> 2]\n",
      "10:07:47.092: Token [2 -> 1]\n",
      "10:07:47.094: Token [1 -> 2]\n",
      "10:07:47.098: Token [2 -> 1]\n",
      "10:07:47.108: Token [1 -> 2]\n",
      "10:07:47.111: Token [2 -> 1]\n",
      "10:07:47.117: Token [1 -> 2]\n",
      "10:07:47.121: Token [2 -> 1]\n",
      "10:07:47.122: Token [1 -> 2]\n",
      "10:07:47.124: Token [2 -> 1]\n",
      "10:07:47.125: Token [1 -> 2]\n",
      "10:07:47.127: Token [2 -> 1]\n",
      "10:07:47.128: Token [1 -> 2]\n",
      "10:07:47.128: Token [2 -> 1]\n",
      "10:07:47.130: Token [1 -> 2]\n",
      "10:07:47.131: Token [2 -> 1]\n",
      "10:07:47.131: Token [1 -> 2]\n",
      "10:07:47.134: Token [2 -> 1]\n",
      "10:07:47.134: Token [1 -> 2]\n",
      "10:07:47.137: Token [2 -> 1]\n",
      "10:07:47.140: Token [1 -> 2]\n",
      "10:07:47.141: Token [2 -> 1]\n",
      "10:07:47.145: Token [1 -> 2]\n",
      "10:07:47.150: Token [2 -> 1]\n",
      "10:07:47.151: Token [1 -> 2]\n",
      "10:07:47.153: Token [2 -> 1]\n",
      "10:07:47.154: Token [1 -> 2]\n",
      "10:07:47.154: Token [2 -> 1]\n",
      "10:07:47.155: Token [1 -> 2]\n",
      "10:07:47.157: Token [2 -> 1]\n",
      "10:07:47.157: Token [1 -> 2]\n",
      "10:07:47.158: Token [2 -> 1]\n",
      "10:07:47.161: Token [1 -> 2]\n",
      "10:07:47.163: Token [2 -> 1]\n",
      "10:07:47.164: Token [1 -> 2]\n",
      "10:07:47.171: Token [2 -> 1]\n",
      "10:07:47.173: Token [1 -> 2]\n",
      "10:07:47.174: Token [2 -> 1]\n",
      "10:07:47.174: Token [1 -> 2]\n",
      "10:07:47.176: Token [2 -> 1]\n",
      "10:07:47.177: Token [1 -> 2]\n",
      "10:07:47.177: Token [2 -> 1]\n",
      "10:07:47.178: Token [1 -> 2]\n",
      "10:07:47.180: Token [2 -> 1]\n",
      "10:07:47.180: Token [1 -> 2]\n",
      "10:07:47.181: Token [2 -> 1]\n",
      "10:07:47.184: Token [1 -> 2]\n",
      "10:07:47.184: Token [2 -> 1]\n",
      "10:07:47.186: Token [1 -> 2]\n",
      "10:07:47.187: Token [2 -> 1]\n",
      "10:07:47.187: Token [1 -> 2]\n",
      "10:07:47.190: Token [2 -> 1]\n",
      "10:07:47.194: Token [1 -> 2]\n",
      "10:07:47.197: Token [2 -> 1]\n",
      "10:07:47.200: Token [1 -> 2]\n",
      "10:07:47.203: Token [2 -> 1]\n",
      "10:07:47.207: Token [1 -> 2]\n",
      "10:07:47.209: Token [2 -> 1]\n",
      "10:07:47.210: Token [1 -> 2]\n",
      "10:07:47.210: Token [2 -> 1]\n",
      "10:07:47.211: Token [1 -> 2]\n",
      "10:07:47.213: Token [2 -> 1]\n",
      "10:07:47.213: Token [1 -> 2]\n",
      "10:07:47.216: Token [2 -> 1]\n",
      "10:07:47.220: Token [1 -> 2]\n",
      "10:07:47.221: Token [2 -> 1]\n",
      "10:07:47.223: Token [1 -> 2]\n",
      "10:07:47.223: Token [2 -> 1]\n",
      "10:07:47.224: Token [1 -> 2]\n",
      "10:07:47.226: Token [2 -> 1]\n",
      "10:07:47.226: Token [1 -> 2]\n",
      "10:07:47.229: Token [2 -> 1]\n",
      "10:07:47.299: Token [1 -> 2]\n",
      "10:07:48.303: Token [2 -> 1]\n",
      "10:07:49.296: Token [1 -> 2]\n"
     ]
    }
   ],
   "source": [
    "#jeelink.send(2, \"Token\", {\"counter\": 1})\n",
    "jeelink.log_received_information(1, log_package_function)"
   ]
  },
  {
   "cell_type": "code",
   "execution_count": 4,
   "metadata": {
    "collapsed": false,
    "scrolled": false
   },
   "outputs": [
    {
     "name": "stdout",
     "output_type": "stream",
     "text": [
      "10:07:55.108: Token [2 -> 1]\n",
      "10:07:55.109: Token [1 -> 2]\n",
      "10:07:55.111: Token [2 -> 1]\n",
      "10:07:55.111: Token [1 -> 2]\n",
      "10:07:55.112: Token [2 -> 1]\n",
      "10:07:55.319: Token [1 -> 2]\n",
      "10:07:56.325: Token [2 -> 1]\n",
      "10:07:57.315: Token [1 -> 2]\n",
      "10:07:58.322: Token [2 -> 1]\n",
      "10:07:59.328: Token [1 -> 2]\n",
      "10:08:00.335: Token [2 -> 1]\n",
      "10:08:01.325: Token [1 -> 2]\n",
      "10:08:02.332: Token [2 -> 1]\n",
      "10:08:03.339: Token [1 -> 2]\n",
      "10:08:04.329: Token [2 -> 1]\n",
      "10:08:05.336: Token [1 -> 2]\n",
      "10:08:06.344: Token [2 -> 1]\n",
      "10:08:07.349: Token [1 -> 2]\n",
      "10:08:08.341: Token [2 -> 1]\n",
      "10:08:09.348: Token [1 -> 2]\n",
      "10:08:10.354: Token [2 -> 1]\n",
      "10:08:11.361: Token [1 -> 2]\n",
      "10:08:12.351: Token [2 -> 1]\n",
      "10:08:13.358: Token [1 -> 2]\n",
      "10:08:14.365: Token [2 -> 1]\n",
      "10:08:15.371: Token [1 -> 2]\n",
      "10:08:16.361: Token [2 -> 1]\n",
      "10:08:17.368: Token [1 -> 2]\n",
      "10:08:18.374: Token [2 -> 1]\n",
      "10:08:19.381: Token [1 -> 2]\n",
      "10:08:20.371: Token [2 -> 1]\n",
      "10:08:21.378: Token [1 -> 2]\n",
      "10:08:22.384: Token [2 -> 1]\n",
      "10:08:23.391: Token [1 -> 2]\n",
      "10:08:24.381: Token [2 -> 1]\n",
      "10:08:25.388: Token [1 -> 2]\n",
      "10:08:26.395: Token [2 -> 1]\n",
      "10:08:27.401: Token [1 -> 2]\n",
      "10:08:28.391: Token [2 -> 1]\n",
      "10:08:29.400: Token [1 -> 2]\n",
      "10:08:30.405: Token [2 -> 1]\n",
      "10:08:31.413: Token [1 -> 2]\n",
      "10:08:32.403: Token [2 -> 1]\n",
      "10:08:33.410: Token [1 -> 2]\n",
      "10:08:34.417: Token [2 -> 1]\n"
     ]
    }
   ],
   "source": [
    "jeelink.log_received_information(2, log_package_function)"
   ]
  },
  {
   "cell_type": "code",
   "execution_count": 5,
   "metadata": {
    "collapsed": false
   },
   "outputs": [
    {
     "data": {
      "text/plain": [
       "Rf12Demo<id=0x55338d0, open=True>(port='COM3', baudrate=57600, bytesize=8, parity='N', stopbits=1, timeout=1, xonxoff=False, rtscts=False, dsrdtr=False)"
      ]
     },
     "execution_count": 5,
     "metadata": {},
     "output_type": "execute_result"
    }
   ],
   "source": [
    "jeelink"
   ]
  },
  {
   "cell_type": "code",
   "execution_count": null,
   "metadata": {
    "collapsed": true
   },
   "outputs": [],
   "source": []
  }
 ],
 "metadata": {
  "kernelspec": {
   "display_name": "Python 2",
   "language": "python",
   "name": "python2"
  },
  "language_info": {
   "codemirror_mode": {
    "name": "ipython",
    "version": 2
   },
   "file_extension": ".py",
   "mimetype": "text/x-python",
   "name": "python",
   "nbconvert_exporter": "python",
   "pygments_lexer": "ipython2",
   "version": "2.7.10"
  }
 },
 "nbformat": 4,
 "nbformat_minor": 0
}
