{
 "cells": [
  {
   "cell_type": "code",
   "execution_count": 1,
   "metadata": {
    "collapsed": false
   },
   "outputs": [],
   "source": [
    "from utils import *\n",
    "from rf12demo.rf12demo import Rf12Demo\n",
    "import logging, time\n",
    "import logging\n",
    "plogger = logging.getLogger('pymote')\n",
    "plogger.setLevel(logging.ERROR+1)\n",
    "%load_ext autoreload\n",
    "%autoreload 2"
   ]
  },
  {
   "cell_type": "code",
   "execution_count": 2,
   "metadata": {
    "collapsed": false
   },
   "outputs": [
    {
     "name": "stdout",
     "output_type": "stream",
     "text": [
      "21:21:03.092:        id: 31\n",
      "21:21:03.094:     group: 212\n",
      "21:21:03.094: frequency: 868 MHz\n",
      "21:21:03.095:   collect: True\n",
      "21:21:03.098:    offset: 1600\n",
      "21:21:03.099:     quiet: True\n",
      "21:21:03.101:    format: hex\n"
     ]
    }
   ],
   "source": [
    "if \"jeelink\" in locals() and not jeelink.closed:\n",
    "    jeelink.close()\n",
    "jeelink = Rf12Demo(payload_header, payload_body, port='COM3', baudrate=57600, timeout=1)\n",
    "fileHandler = logging.handlers.RotatingFileHandler('rf12demo.log')\n",
    "fileHandler.setFormatter(jeelink.loghandler.formatter)\n",
    "jeelink.logger.addHandler(fileHandler)"
   ]
  },
  {
   "cell_type": "code",
   "execution_count": 3,
   "metadata": {
    "collapsed": true
   },
   "outputs": [],
   "source": [
    "jeelink.set_group(212)"
   ]
  },
  {
   "cell_type": "code",
   "execution_count": 17,
   "metadata": {
    "collapsed": false
   },
   "outputs": [
    {
     "name": "stdout",
     "output_type": "stream",
     "text": [
      "21:30:16.838: Token [1 -> 31]\n"
     ]
    },
    {
     "data": {
      "text/plain": [
       "[{'counter': 2,\n",
       "  'hdr_dst_id': 31,\n",
       "  'hdr_is_ack': False,\n",
       "  'hdr_is_dst': True,\n",
       "  'hdr_src_id': None,\n",
       "  'hdr_wants_ack': False,\n",
       "  'src_id': 1,\n",
       "  'type': 1}]"
      ]
     },
     "execution_count": 17,
     "metadata": {},
     "output_type": "execute_result"
    }
   ],
   "source": [
    "jeelink.send(1, \"Token\", {\"counter\": 1})\n",
    "jeelink.log_received_information(1, log_package_function)"
   ]
  },
  {
   "cell_type": "code",
   "execution_count": 9,
   "metadata": {
    "collapsed": false,
    "scrolled": true
   },
   "outputs": [
    {
     "name": "stdout",
     "output_type": "stream",
     "text": [
      "21:26:50.595: Token [1 -> 2]\n",
      "21:26:50.595: Token [2 -> 1]\n",
      "21:26:50.599: Token [1 -> 2]\n",
      "21:26:50.601: Token [2 -> 1]\n",
      "21:26:50.602: Token [1 -> 2]\n",
      "21:26:50.605: Token [2 -> 1]\n",
      "21:26:50.607: Token [1 -> 2]\n",
      "21:26:50.608: Token [2 -> 1]\n",
      "21:26:50.609: Token [1 -> 2]\n",
      "21:26:50.611: Token [2 -> 1]\n",
      "21:26:50.611: Token [1 -> 2]\n",
      "21:26:51.220: Token [2 -> 1]\n",
      "21:26:52.227: Token [1 -> 2]\n",
      "21:26:53.250: Token [2 -> 1]\n",
      "21:26:54.256: Token [1 -> 2]\n",
      "21:26:55.278: Token [2 -> 1]\n",
      "21:26:56.283: Token [1 -> 2]\n",
      "21:26:57.305: Token [2 -> 1]\n",
      "21:26:58.296: Token [1 -> 2]\n",
      "21:26:59.319: Token [2 -> 1]\n",
      "21:27:00.325: Token [1 -> 2]\n",
      "21:27:01.348: Token [2 -> 1]\n"
     ]
    },
    {
     "data": {
      "text/plain": [
       "[{'counter': 1,\n",
       "  'hdr_dst_id': 2,\n",
       "  'hdr_is_ack': False,\n",
       "  'hdr_is_dst': True,\n",
       "  'hdr_src_id': None,\n",
       "  'hdr_wants_ack': False,\n",
       "  'src_id': 1,\n",
       "  'type': 1},\n",
       " {'counter': 2,\n",
       "  'hdr_dst_id': 1,\n",
       "  'hdr_is_ack': False,\n",
       "  'hdr_is_dst': True,\n",
       "  'hdr_src_id': None,\n",
       "  'hdr_wants_ack': False,\n",
       "  'src_id': 2,\n",
       "  'type': 1},\n",
       " {'counter': 3,\n",
       "  'hdr_dst_id': 2,\n",
       "  'hdr_is_ack': False,\n",
       "  'hdr_is_dst': True,\n",
       "  'hdr_src_id': None,\n",
       "  'hdr_wants_ack': False,\n",
       "  'src_id': 1,\n",
       "  'type': 1},\n",
       " {'counter': 4,\n",
       "  'hdr_dst_id': 1,\n",
       "  'hdr_is_ack': False,\n",
       "  'hdr_is_dst': True,\n",
       "  'hdr_src_id': None,\n",
       "  'hdr_wants_ack': False,\n",
       "  'src_id': 2,\n",
       "  'type': 1},\n",
       " {'counter': 5,\n",
       "  'hdr_dst_id': 2,\n",
       "  'hdr_is_ack': False,\n",
       "  'hdr_is_dst': True,\n",
       "  'hdr_src_id': None,\n",
       "  'hdr_wants_ack': False,\n",
       "  'src_id': 1,\n",
       "  'type': 1},\n",
       " {'counter': 6,\n",
       "  'hdr_dst_id': 1,\n",
       "  'hdr_is_ack': False,\n",
       "  'hdr_is_dst': True,\n",
       "  'hdr_src_id': None,\n",
       "  'hdr_wants_ack': False,\n",
       "  'src_id': 2,\n",
       "  'type': 1},\n",
       " {'counter': 7,\n",
       "  'hdr_dst_id': 2,\n",
       "  'hdr_is_ack': False,\n",
       "  'hdr_is_dst': True,\n",
       "  'hdr_src_id': None,\n",
       "  'hdr_wants_ack': False,\n",
       "  'src_id': 1,\n",
       "  'type': 1},\n",
       " {'counter': 8,\n",
       "  'hdr_dst_id': 1,\n",
       "  'hdr_is_ack': False,\n",
       "  'hdr_is_dst': True,\n",
       "  'hdr_src_id': None,\n",
       "  'hdr_wants_ack': False,\n",
       "  'src_id': 2,\n",
       "  'type': 1},\n",
       " {'counter': 9,\n",
       "  'hdr_dst_id': 2,\n",
       "  'hdr_is_ack': False,\n",
       "  'hdr_is_dst': True,\n",
       "  'hdr_src_id': None,\n",
       "  'hdr_wants_ack': False,\n",
       "  'src_id': 1,\n",
       "  'type': 1},\n",
       " {'counter': 10,\n",
       "  'hdr_dst_id': 1,\n",
       "  'hdr_is_ack': False,\n",
       "  'hdr_is_dst': True,\n",
       "  'hdr_src_id': None,\n",
       "  'hdr_wants_ack': False,\n",
       "  'src_id': 2,\n",
       "  'type': 1},\n",
       " {'counter': 11,\n",
       "  'hdr_dst_id': 2,\n",
       "  'hdr_is_ack': False,\n",
       "  'hdr_is_dst': True,\n",
       "  'hdr_src_id': None,\n",
       "  'hdr_wants_ack': False,\n",
       "  'src_id': 1,\n",
       "  'type': 1},\n",
       " {'counter': 12,\n",
       "  'hdr_dst_id': 1,\n",
       "  'hdr_is_ack': False,\n",
       "  'hdr_is_dst': True,\n",
       "  'hdr_src_id': None,\n",
       "  'hdr_wants_ack': False,\n",
       "  'src_id': 2,\n",
       "  'type': 1},\n",
       " {'counter': 13,\n",
       "  'hdr_dst_id': 2,\n",
       "  'hdr_is_ack': False,\n",
       "  'hdr_is_dst': True,\n",
       "  'hdr_src_id': None,\n",
       "  'hdr_wants_ack': False,\n",
       "  'src_id': 1,\n",
       "  'type': 1},\n",
       " {'counter': 14,\n",
       "  'hdr_dst_id': 1,\n",
       "  'hdr_is_ack': False,\n",
       "  'hdr_is_dst': True,\n",
       "  'hdr_src_id': None,\n",
       "  'hdr_wants_ack': False,\n",
       "  'src_id': 2,\n",
       "  'type': 1},\n",
       " {'counter': 15,\n",
       "  'hdr_dst_id': 2,\n",
       "  'hdr_is_ack': False,\n",
       "  'hdr_is_dst': True,\n",
       "  'hdr_src_id': None,\n",
       "  'hdr_wants_ack': False,\n",
       "  'src_id': 1,\n",
       "  'type': 1},\n",
       " {'counter': 16,\n",
       "  'hdr_dst_id': 1,\n",
       "  'hdr_is_ack': False,\n",
       "  'hdr_is_dst': True,\n",
       "  'hdr_src_id': None,\n",
       "  'hdr_wants_ack': False,\n",
       "  'src_id': 2,\n",
       "  'type': 1},\n",
       " {'counter': 17,\n",
       "  'hdr_dst_id': 2,\n",
       "  'hdr_is_ack': False,\n",
       "  'hdr_is_dst': True,\n",
       "  'hdr_src_id': None,\n",
       "  'hdr_wants_ack': False,\n",
       "  'src_id': 1,\n",
       "  'type': 1},\n",
       " {'counter': 18,\n",
       "  'hdr_dst_id': 1,\n",
       "  'hdr_is_ack': False,\n",
       "  'hdr_is_dst': True,\n",
       "  'hdr_src_id': None,\n",
       "  'hdr_wants_ack': False,\n",
       "  'src_id': 2,\n",
       "  'type': 1},\n",
       " {'counter': 19,\n",
       "  'hdr_dst_id': 2,\n",
       "  'hdr_is_ack': False,\n",
       "  'hdr_is_dst': True,\n",
       "  'hdr_src_id': None,\n",
       "  'hdr_wants_ack': False,\n",
       "  'src_id': 1,\n",
       "  'type': 1},\n",
       " {'counter': 20,\n",
       "  'hdr_dst_id': 1,\n",
       "  'hdr_is_ack': False,\n",
       "  'hdr_is_dst': True,\n",
       "  'hdr_src_id': None,\n",
       "  'hdr_wants_ack': False,\n",
       "  'src_id': 2,\n",
       "  'type': 1},\n",
       " {'counter': 21,\n",
       "  'hdr_dst_id': 2,\n",
       "  'hdr_is_ack': False,\n",
       "  'hdr_is_dst': True,\n",
       "  'hdr_src_id': None,\n",
       "  'hdr_wants_ack': False,\n",
       "  'src_id': 1,\n",
       "  'type': 1},\n",
       " {'counter': 22,\n",
       "  'hdr_dst_id': 1,\n",
       "  'hdr_is_ack': False,\n",
       "  'hdr_is_dst': True,\n",
       "  'hdr_src_id': None,\n",
       "  'hdr_wants_ack': False,\n",
       "  'src_id': 2,\n",
       "  'type': 1}]"
      ]
     },
     "execution_count": 9,
     "metadata": {},
     "output_type": "execute_result"
    }
   ],
   "source": [
    "jeelink.log_received_information(2, log_package_function)"
   ]
  },
  {
   "cell_type": "code",
   "execution_count": 7,
   "metadata": {
    "collapsed": false
   },
   "outputs": [
    {
     "data": {
      "text/plain": [
       "Rf12Demo<id=0x6cb0810, open=True>(port='COM3', baudrate=57600, bytesize=8, parity='N', stopbits=1, timeout=1, xonxoff=False, rtscts=False, dsrdtr=False)"
      ]
     },
     "execution_count": 7,
     "metadata": {},
     "output_type": "execute_result"
    }
   ],
   "source": [
    "jeelink"
   ]
  },
  {
   "cell_type": "code",
   "execution_count": null,
   "metadata": {
    "collapsed": true
   },
   "outputs": [],
   "source": []
  }
 ],
 "metadata": {
  "kernelspec": {
   "display_name": "Python 2",
   "language": "python",
   "name": "python2"
  },
  "language_info": {
   "codemirror_mode": {
    "name": "ipython",
    "version": 2
   },
   "file_extension": ".py",
   "mimetype": "text/x-python",
   "name": "python",
   "nbconvert_exporter": "python",
   "pygments_lexer": "ipython2",
   "version": "2.7.10"
  }
 },
 "nbformat": 4,
 "nbformat_minor": 0
}
